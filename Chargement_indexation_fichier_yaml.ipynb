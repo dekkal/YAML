{
 "cells": [
  {
   "cell_type": "code",
   "execution_count": 92,
   "id": "eed33e1d",
   "metadata": {},
   "outputs": [],
   "source": [
    "import pandas as pd\n",
    "import yaml\n",
    "with open(\"details.yaml\") as f :\n",
    "    data= yaml.load(f,Loader=yaml.FullLoader)\n",
    "   "
   ]
  },
  {
   "cell_type": "code",
   "execution_count": 93,
   "id": "1b936014",
   "metadata": {},
   "outputs": [],
   "source": [
    "data1=data['Formation1']\n",
    "data2=data['Formation2']\n"
   ]
  },
  {
   "cell_type": "code",
   "execution_count": 94,
   "id": "39f51fc1",
   "metadata": {},
   "outputs": [
    {
     "data": {
      "text/plain": [
       "numero             1\n",
       "Spécialité       ISI\n",
       "name           dyhia\n",
       "Age               28\n",
       "gender        female\n",
       "Sport             VO\n",
       "dtype: object"
      ]
     },
     "execution_count": 94,
     "metadata": {},
     "output_type": "execute_result"
    }
   ],
   "source": [
    "pd.Series(data1)"
   ]
  },
  {
   "cell_type": "code",
   "execution_count": 95,
   "id": "b8a8041e",
   "metadata": {},
   "outputs": [
    {
     "name": "stdout",
     "output_type": "stream",
     "text": [
      "{'numero': 1, 'Spécialité': 'ISI', 'name': 'dyhia', 'Age': 28, 'gender': 'female', 'Sport': 'VO'}\n"
     ]
    }
   ],
   "source": [
    "print(data1)"
   ]
  },
  {
   "cell_type": "code",
   "execution_count": 96,
   "id": "3b143539",
   "metadata": {},
   "outputs": [
    {
     "data": {
      "text/plain": [
       "numero             2\n",
       "Spécialité      chps\n",
       "name           Dyhia\n",
       "Age               28\n",
       "gender        female\n",
       "Sport             Vo\n",
       "dtype: object"
      ]
     },
     "execution_count": 96,
     "metadata": {},
     "output_type": "execute_result"
    }
   ],
   "source": [
    "pd.Series(data2)"
   ]
  },
  {
   "cell_type": "markdown",
   "id": "cee7ff5e",
   "metadata": {},
   "source": [
    "Structure de structure : liste de dictionnaire représenté sous forme d'un dataframe"
   ]
  },
  {
   "cell_type": "code",
   "execution_count": 97,
   "id": "176ad122",
   "metadata": {},
   "outputs": [],
   "source": [
    "df=pd.DataFrame([data1,data2],index=['formation1','formation2'])"
   ]
  },
  {
   "cell_type": "code",
   "execution_count": 98,
   "id": "587ea9f4",
   "metadata": {},
   "outputs": [
    {
     "data": {
      "text/html": [
       "<div>\n",
       "<style scoped>\n",
       "    .dataframe tbody tr th:only-of-type {\n",
       "        vertical-align: middle;\n",
       "    }\n",
       "\n",
       "    .dataframe tbody tr th {\n",
       "        vertical-align: top;\n",
       "    }\n",
       "\n",
       "    .dataframe thead th {\n",
       "        text-align: right;\n",
       "    }\n",
       "</style>\n",
       "<table border=\"1\" class=\"dataframe\">\n",
       "  <thead>\n",
       "    <tr style=\"text-align: right;\">\n",
       "      <th></th>\n",
       "      <th>numero</th>\n",
       "      <th>Spécialité</th>\n",
       "      <th>name</th>\n",
       "      <th>Age</th>\n",
       "      <th>gender</th>\n",
       "      <th>Sport</th>\n",
       "    </tr>\n",
       "  </thead>\n",
       "  <tbody>\n",
       "    <tr>\n",
       "      <th>formation1</th>\n",
       "      <td>1</td>\n",
       "      <td>ISI</td>\n",
       "      <td>dyhia</td>\n",
       "      <td>28</td>\n",
       "      <td>female</td>\n",
       "      <td>VO</td>\n",
       "    </tr>\n",
       "    <tr>\n",
       "      <th>formation2</th>\n",
       "      <td>2</td>\n",
       "      <td>chps</td>\n",
       "      <td>Dyhia</td>\n",
       "      <td>28</td>\n",
       "      <td>female</td>\n",
       "      <td>Vo</td>\n",
       "    </tr>\n",
       "  </tbody>\n",
       "</table>\n",
       "</div>"
      ],
      "text/plain": [
       "            numero Spécialité   name  Age  gender Sport\n",
       "formation1       1        ISI  dyhia   28  female    VO\n",
       "formation2       2       chps  Dyhia   28  female    Vo"
      ]
     },
     "execution_count": 98,
     "metadata": {},
     "output_type": "execute_result"
    }
   ],
   "source": [
    "df.head()"
   ]
  },
  {
   "cell_type": "code",
   "execution_count": 99,
   "id": "957cb905",
   "metadata": {},
   "outputs": [],
   "source": [
    "column_name=df[['Spécialité'][0]]"
   ]
  },
  {
   "cell_type": "code",
   "execution_count": 100,
   "id": "bbd8ad64",
   "metadata": {},
   "outputs": [
    {
     "data": {
      "text/plain": [
       "formation1     ISI\n",
       "formation2    chps\n",
       "Name: Spécialité, dtype: object"
      ]
     },
     "execution_count": 100,
     "metadata": {},
     "output_type": "execute_result"
    }
   ],
   "source": [
    "column_name"
   ]
  },
  {
   "cell_type": "code",
   "execution_count": 101,
   "id": "a7774adc",
   "metadata": {},
   "outputs": [
    {
     "data": {
      "text/plain": [
       "'ISI'"
      ]
     },
     "execution_count": 101,
     "metadata": {},
     "output_type": "execute_result"
    }
   ],
   "source": [
    "column_name[0]"
   ]
  },
  {
   "cell_type": "code",
   "execution_count": 102,
   "id": "95a4e5eb",
   "metadata": {},
   "outputs": [
    {
     "data": {
      "text/plain": [
       "'chps'"
      ]
     },
     "execution_count": 102,
     "metadata": {},
     "output_type": "execute_result"
    }
   ],
   "source": [
    "column_name[1]"
   ]
  },
  {
   "cell_type": "code",
   "execution_count": 103,
   "id": "e491e536",
   "metadata": {},
   "outputs": [
    {
     "name": "stdout",
     "output_type": "stream",
     "text": [
      "la première formation est: ISI \n"
     ]
    }
   ],
   "source": [
    "print('la première formation est: {} '.format (column_name[0])) "
   ]
  },
  {
   "cell_type": "code",
   "execution_count": 104,
   "id": "58517602",
   "metadata": {},
   "outputs": [
    {
     "name": "stdout",
     "output_type": "stream",
     "text": [
      "la deuxième formation est: chps \n"
     ]
    }
   ],
   "source": [
    "print('la deuxième formation est: {} '.format (column_name[1])) "
   ]
  },
  {
   "cell_type": "code",
   "execution_count": null,
   "id": "bca27aac",
   "metadata": {},
   "outputs": [],
   "source": []
  }
 ],
 "metadata": {
  "kernelspec": {
   "display_name": "Python 3 (ipykernel)",
   "language": "python",
   "name": "python3"
  },
  "language_info": {
   "codemirror_mode": {
    "name": "ipython",
    "version": 3
   },
   "file_extension": ".py",
   "mimetype": "text/x-python",
   "name": "python",
   "nbconvert_exporter": "python",
   "pygments_lexer": "ipython3",
   "version": "3.9.13"
  }
 },
 "nbformat": 4,
 "nbformat_minor": 5
}
